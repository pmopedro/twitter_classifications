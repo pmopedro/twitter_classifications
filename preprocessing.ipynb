{
 "cells": [
  {
   "cell_type": "code",
   "execution_count": 1,
   "id": "french-designation",
   "metadata": {},
   "outputs": [],
   "source": [
    "import pandas as pd\n",
    "import numpy as np"
   ]
  },
  {
   "cell_type": "code",
   "execution_count": 13,
   "id": "maritime-shepherd",
   "metadata": {},
   "outputs": [],
   "source": [
    "df = pd.read_csv('politician/tweets.csv')"
   ]
  },
  {
   "cell_type": "code",
   "execution_count": 14,
   "id": "amazing-milwaukee",
   "metadata": {},
   "outputs": [],
   "source": [
    "test = pd.read_csv('politicians/algore/tweets.csv')"
   ]
  },
  {
   "cell_type": "code",
   "execution_count": 15,
   "id": "bbb4d437",
   "metadata": {},
   "outputs": [],
   "source": [
    "df.loc[:1000].to_csv('sample_twitter.csv')"
   ]
  },
  {
   "cell_type": "code",
   "execution_count": 16,
   "id": "african-stylus",
   "metadata": {},
   "outputs": [],
   "source": [
    "df.columns = test.columns"
   ]
  },
  {
   "cell_type": "code",
   "execution_count": 17,
   "id": "normal-exercise",
   "metadata": {},
   "outputs": [
    {
     "data": {
      "text/plain": [
       "Index(['id', 'conversation_id', 'created_at', 'date', 'time', 'timezone',\n",
       "       'user_id', 'username', 'name', 'place', 'tweet', 'language', 'mentions',\n",
       "       'urls', 'photos', 'replies_count', 'retweets_count', 'likes_count',\n",
       "       'hashtags', 'cashtags', 'link', 'retweet', 'quote_url', 'video',\n",
       "       'thumbnail', 'near', 'geo', 'source', 'user_rt_id', 'user_rt',\n",
       "       'retweet_id', 'reply_to', 'retweet_date', 'translate', 'trans_src',\n",
       "       'trans_dest'],\n",
       "      dtype='object')"
      ]
     },
     "execution_count": 17,
     "metadata": {},
     "output_type": "execute_result"
    }
   ],
   "source": [
    "df.columns"
   ]
  },
  {
   "cell_type": "code",
   "execution_count": 21,
   "id": "f85eda24-fe02-41de-ba89-e736a4a169a8",
   "metadata": {},
   "outputs": [
    {
     "name": "stdout",
     "output_type": "stream",
     "text": [
      "<class 'pandas.core.frame.DataFrame'>\n",
      "RangeIndex: 400831 entries, 0 to 400830\n",
      "Data columns (total 36 columns):\n",
      " #   Column           Non-Null Count   Dtype  \n",
      "---  ------           --------------   -----  \n",
      " 0   id               400831 non-null  int64  \n",
      " 1   conversation_id  400831 non-null  int64  \n",
      " 2   created_at       400831 non-null  object \n",
      " 3   date             400831 non-null  object \n",
      " 4   time             400831 non-null  object \n",
      " 5   timezone         400831 non-null  int64  \n",
      " 6   user_id          400831 non-null  int64  \n",
      " 7   username         400831 non-null  object \n",
      " 8   name             400831 non-null  object \n",
      " 9   place            197 non-null     object \n",
      " 10  tweet            400831 non-null  object \n",
      " 11  language         400830 non-null  object \n",
      " 12  mentions         400830 non-null  object \n",
      " 13  urls             400830 non-null  object \n",
      " 14  photos           400830 non-null  object \n",
      " 15  replies_count    400830 non-null  float64\n",
      " 16  retweets_count   400830 non-null  float64\n",
      " 17  likes_count      400830 non-null  float64\n",
      " 18  hashtags         400830 non-null  object \n",
      " 19  cashtags         400830 non-null  object \n",
      " 20  link             400830 non-null  object \n",
      " 21  retweet          400830 non-null  object \n",
      " 22  quote_url        41648 non-null   object \n",
      " 23  video            400830 non-null  float64\n",
      " 24  thumbnail        68402 non-null   object \n",
      " 25  near             0 non-null       float64\n",
      " 26  geo              0 non-null       float64\n",
      " 27  source           0 non-null       float64\n",
      " 28  user_rt_id       0 non-null       float64\n",
      " 29  user_rt          0 non-null       float64\n",
      " 30  retweet_id       0 non-null       float64\n",
      " 31  reply_to         400830 non-null  object \n",
      " 32  retweet_date     0 non-null       float64\n",
      " 33  translate        0 non-null       float64\n",
      " 34  trans_src        0 non-null       float64\n",
      " 35  trans_dest       0 non-null       float64\n",
      "dtypes: float64(14), int64(4), object(18)\n",
      "memory usage: 110.1+ MB\n"
     ]
    }
   ],
   "source": [
    "df.info()"
   ]
  },
  {
   "cell_type": "code",
   "execution_count": 7,
   "id": "comparative-announcement",
   "metadata": {},
   "outputs": [
    {
     "data": {
      "text/plain": [
       "'2021-05-21'"
      ]
     },
     "execution_count": 7,
     "metadata": {},
     "output_type": "execute_result"
    }
   ],
   "source": [
    "max(df.date)"
   ]
  },
  {
   "cell_type": "code",
   "execution_count": 8,
   "id": "quiet-stylus",
   "metadata": {},
   "outputs": [
    {
     "data": {
      "text/plain": [
       "'2007-05-07'"
      ]
     },
     "execution_count": 8,
     "metadata": {},
     "output_type": "execute_result"
    }
   ],
   "source": [
    "min(df.date)"
   ]
  },
  {
   "cell_type": "code",
   "execution_count": 9,
   "id": "juvenile-batch",
   "metadata": {},
   "outputs": [
    {
     "data": {
      "text/plain": [
       "name\n",
       "Al Franken                       3614\n",
       "Alexandria Ocasio-Cortez         8470\n",
       "Amy Klobuchar                   12496\n",
       "Andrew Cuomo                    23488\n",
       "Andrew Yang🧢🗽🇺🇸                 17345\n",
       "Arnold                           5066\n",
       "Barack Obama                    13803\n",
       "Bernie Sanders                  14816\n",
       "Beto O'Rourke                    7275\n",
       "Chuck Schumer                   15802\n",
       "Cory Booker                     56410\n",
       "Donna Brazile                   41083\n",
       "Elizabeth Warren                10128\n",
       "Gabrielle Giffords               4056\n",
       "Gov. Mike Huckabee              12716\n",
       "Hillary Clinton                  9899\n",
       "Ilhan Omar                       9500\n",
       "James E. Clyburn                 3600\n",
       "Joe Biden                        6572\n",
       "Joe Kennedy III                  4562\n",
       "Julián Castro                    7325\n",
       "Karl Rove                        8603\n",
       "Marco Rubio                     12911\n",
       "Mike Pence                       5735\n",
       "Nancy Pelosi                     5030\n",
       "Newt Gingrich                   12167\n",
       "Pete Buttigieg                   8462\n",
       "Ron Paul                         9338\n",
       "Sarah Palin                     17316\n",
       "Senator Rand Paul               10160\n",
       "Tammy Duckworth                  8475\n",
       "Ted Cruz                        18623\n",
       "Vice President Kamala Harris     5596\n",
       "dtype: int64"
      ]
     },
     "execution_count": 9,
     "metadata": {},
     "output_type": "execute_result"
    }
   ],
   "source": [
    "noisy_politicians = df.groupby('name').size().loc[df.groupby('name').size() > 3000]\n",
    "noisy_politicians"
   ]
  },
  {
   "cell_type": "code",
   "execution_count": 10,
   "id": "increasing-companion",
   "metadata": {},
   "outputs": [],
   "source": [
    "noisy_politicians= noisy_politicians.reset_index()"
   ]
  },
  {
   "cell_type": "code",
   "execution_count": 11,
   "id": "supreme-mumbai",
   "metadata": {
    "tags": []
   },
   "outputs": [],
   "source": [
    "df['noisy'] = False"
   ]
  },
  {
   "cell_type": "code",
   "execution_count": 12,
   "id": "social-astrology",
   "metadata": {},
   "outputs": [],
   "source": [
    "df.to_csv('twitter_data.csv')"
   ]
  },
  {
   "cell_type": "code",
   "execution_count": 13,
   "id": "corrected-coalition",
   "metadata": {},
   "outputs": [
    {
     "ename": "SyntaxError",
     "evalue": "invalid syntax (<ipython-input-13-b49f2ff112bc>, line 1)",
     "output_type": "error",
     "traceback": [
      "\u001b[0;36m  File \u001b[0;32m\"<ipython-input-13-b49f2ff112bc>\"\u001b[0;36m, line \u001b[0;32m1\u001b[0m\n\u001b[0;31m    df.name.apply(x:lambda for if df.name.iloc[i] in noisy_politicians.name.tolist() return True )\u001b[0m\n\u001b[0m                   ^\u001b[0m\n\u001b[0;31mSyntaxError\u001b[0m\u001b[0;31m:\u001b[0m invalid syntax\n"
     ]
    }
   ],
   "source": [
    "df.name.apply(x:lambda for if df.name.iloc[i] in noisy_politicians.name.tolist() return True )"
   ]
  },
  {
   "cell_type": "code",
   "execution_count": 14,
   "id": "handy-congo",
   "metadata": {},
   "outputs": [],
   "source": [
    "useful_columns=['created_at','date','time','hashtags','username','tweet','name']"
   ]
  },
  {
   "cell_type": "code",
   "execution_count": 15,
   "id": "scenic-damage",
   "metadata": {},
   "outputs": [
    {
     "data": {
      "text/plain": [
       "<AxesSubplot:xlabel='name'>"
      ]
     },
     "execution_count": 15,
     "metadata": {},
     "output_type": "execute_result"
    },
    {
     "data": {
      "image/png": "[encoded data removed]",
      "text/plain": [
       "<Figure size 432x288 with 1 Axes>"
      ]
     },
     "metadata": {
      "needs_background": "light"
     },
     "output_type": "display_data"
    }
   ],
   "source": [
    "df.groupby(['name']).sum()['likes_count'].sort_values().plot()"
   ]
  },
  {
   "cell_type": "code",
   "execution_count": 16,
   "id": "thick-prime",
   "metadata": {},
   "outputs": [],
   "source": [
    "df0=pd.read_json('YT_trending_DF.json')"
   ]
  },
  {
   "cell_type": "code",
   "execution_count": 21,
   "id": "mounted-origin",
   "metadata": {},
   "outputs": [],
   "source": [
    "v = df0.to_json('youtube_data.json', lines=True,orient='records')\n",
    "v"
   ]
  },
  {
   "cell_type": "code",
   "execution_count": null,
   "id": "structural-latin",
   "metadata": {},
   "outputs": [],
   "source": []
  }
 ],
 "metadata": {
  "kernelspec": {
   "display_name": "Python 3 (ipykernel)",
   "language": "python",
   "name": "python3"
  },
  "language_info": {
   "codemirror_mode": {
    "name": "ipython",
    "version": 3
   },
   "file_extension": ".py",
   "mimetype": "text/x-python",
   "name": "python",
   "nbconvert_exporter": "python",
   "pygments_lexer": "ipython3",
   "version": "3.9.7"
  }
 },
 "nbformat": 4,
 "nbformat_minor": 5
}
