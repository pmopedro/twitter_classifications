{
 "cells": [
  {
   "cell_type": "code",
   "execution_count": 5,
   "id": "2d176891-083a-452c-a526-cb134e58a8f1",
   "metadata": {},
   "outputs": [],
   "source": [
    "from scipy.spatial import minkowski_distance\n",
    "import numpy as np\n",
    "from scipy.spatial import distance_matrix \n",
    "\n",
    "def our_distance_matrix(x):\n",
    "    x = np.asarray(x)\n",
    "    m, k = x.shape\n",
    "\n",
    "    result = np.empty((m,m),dtype=float)  # FIXME: figure out the best dtype\n",
    "\n",
    "    for j in range(m):\n",
    "        result[:,j] = minkowski_distance(x,x[j])\n",
    "\n",
    "    return result"
   ]
  },
  {
   "cell_type": "code",
   "execution_count": 29,
   "id": "444322e3-e3fa-440b-a55a-12cf7d156838",
   "metadata": {},
   "outputs": [
    {
     "data": {
      "text/plain": [
       "array([[0.27371675, 0.0435378 , 0.20906637, ..., 0.05566579, 0.3806938 ,\n",
       "        0.68296394],\n",
       "       [0.2767559 , 0.42980249, 0.46887706, ..., 0.19716713, 0.94993164,\n",
       "        0.32044192],\n",
       "       [0.25495936, 0.52713823, 0.00676908, ..., 0.73743547, 0.02884726,\n",
       "        0.92427885],\n",
       "       ...,\n",
       "       [0.88716624, 0.5939255 , 0.11233301, ..., 0.71607294, 0.29226591,\n",
       "        0.54022012],\n",
       "       [0.52566309, 0.70941869, 0.55316953, ..., 0.25545586, 0.10412008,\n",
       "        0.88532679],\n",
       "       [0.6294035 , 0.21923488, 0.55816048, ..., 0.00234619, 0.7369892 ,\n",
       "        0.28350564]])"
      ]
     },
     "execution_count": 29,
     "metadata": {},
     "output_type": "execute_result"
    }
   ],
   "source": [
    "M = np.random.rand(1000,1000)\n",
    "M"
   ]
  },
  {
   "cell_type": "code",
   "execution_count": 30,
   "id": "2bcb0880-b95f-4edd-8ad1-d64b677b5394",
   "metadata": {},
   "outputs": [
    {
     "name": "stdout",
     "output_type": "stream",
     "text": [
      "CPU times: user 8.3 s, sys: 4.68 s, total: 13 s\n",
      "Wall time: 13 s\n"
     ]
    }
   ],
   "source": [
    "%%time\n",
    "our = our_distance_matrix(M)"
   ]
  },
  {
   "cell_type": "code",
   "execution_count": 31,
   "id": "9c462a35-56b0-47c3-98d7-52830251f2f4",
   "metadata": {},
   "outputs": [
    {
     "name": "stdout",
     "output_type": "stream",
     "text": [
      "CPU times: user 8.39 s, sys: 5.47 s, total: 13.9 s\n",
      "Wall time: 13.9 s\n"
     ]
    }
   ],
   "source": [
    "%%time\n",
    "their = distance_matrix(M,M)"
   ]
  },
  {
   "cell_type": "code",
   "execution_count": 32,
   "id": "6895ae0d-a177-49fa-84a5-877a39df8820",
   "metadata": {},
   "outputs": [
    {
     "data": {
      "text/plain": [
       "True"
      ]
     },
     "execution_count": 32,
     "metadata": {},
     "output_type": "execute_result"
    }
   ],
   "source": [
    "np.array_equal(our,their)"
   ]
  },
  {
   "cell_type": "code",
   "execution_count": null,
   "id": "2b4868cc-3e71-4b79-ab2a-126093f61d41",
   "metadata": {},
   "outputs": [],
   "source": []
  }
 ],
 "metadata": {
  "kernelspec": {
   "display_name": "Python 3",
   "language": "python",
   "name": "python3"
  },
  "language_info": {
   "codemirror_mode": {
    "name": "ipython",
    "version": 3
   },
   "file_extension": ".py",
   "mimetype": "text/x-python",
   "name": "python",
   "nbconvert_exporter": "python",
   "pygments_lexer": "ipython3",
   "version": "3.9.5"
  }
 },
 "nbformat": 4,
 "nbformat_minor": 5
}
